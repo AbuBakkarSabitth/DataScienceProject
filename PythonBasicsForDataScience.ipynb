{
  "nbformat": 4,
  "nbformat_minor": 0,
  "metadata": {
    "colab": {
      "provenance": [],
      "authorship_tag": "ABX9TyPx203ZI7DRxSjhihnLTEBj",
      "include_colab_link": true
    },
    "kernelspec": {
      "name": "python3",
      "display_name": "Python 3"
    },
    "language_info": {
      "name": "python"
    }
  },
  "cells": [
    {
      "cell_type": "markdown",
      "metadata": {
        "id": "view-in-github",
        "colab_type": "text"
      },
      "source": [
        "<a href=\"https://colab.research.google.com/github/AbuBakkarSabitth/DataScienceProject/blob/main/PythonBasicsForDataScience.ipynb\" target=\"_parent\"><img src=\"https://colab.research.google.com/assets/colab-badge.svg\" alt=\"Open In Colab\"/></a>"
      ]
    },
    {
      "cell_type": "markdown",
      "source": [
        "### List"
      ],
      "metadata": {
        "id": "Oacw1vlaP4nj"
      }
    },
    {
      "cell_type": "code",
      "execution_count": null,
      "metadata": {
        "colab": {
          "base_uri": "https://localhost:8080/"
        },
        "id": "VJ6AJIK9O2Lv",
        "outputId": "df84b060-d22c-4666-e2ac-e7f4c9833d68"
      },
      "outputs": [
        {
          "output_type": "stream",
          "name": "stdout",
          "text": [
            "['Audi', 'BMW', 'Tesla', 'Tata']\n"
          ]
        }
      ],
      "source": [
        "carlist = [\"Audi\",\"BMW\",\"Tesla\",\"Tata\"]\n",
        "print(carlist)"
      ]
    },
    {
      "cell_type": "code",
      "source": [
        "print(carlist)"
      ],
      "metadata": {
        "colab": {
          "base_uri": "https://localhost:8080/"
        },
        "id": "ofUx8I-RRH1c",
        "outputId": "87e231fc-3d05-444d-dd7c-5b090b628ed2"
      },
      "execution_count": null,
      "outputs": [
        {
          "output_type": "stream",
          "name": "stdout",
          "text": [
            "['Audi', 'BMW', 'Tesla', 'Tata']\n"
          ]
        }
      ]
    },
    {
      "cell_type": "code",
      "source": [
        "print(type(carlist))"
      ],
      "metadata": {
        "colab": {
          "base_uri": "https://localhost:8080/"
        },
        "id": "VQEl_1lFVUQe",
        "outputId": "86f8bc2e-0531-4401-ef61-241690f4a984"
      },
      "execution_count": null,
      "outputs": [
        {
          "output_type": "stream",
          "name": "stdout",
          "text": [
            "<class 'list'>\n"
          ]
        }
      ]
    },
    {
      "cell_type": "code",
      "source": [
        "carlist[0]"
      ],
      "metadata": {
        "colab": {
          "base_uri": "https://localhost:8080/",
          "height": 35
        },
        "id": "cy3V-FRRVWmJ",
        "outputId": "d493ba5e-615d-4b2d-8d54-e0ea5508a229"
      },
      "execution_count": null,
      "outputs": [
        {
          "output_type": "execute_result",
          "data": {
            "text/plain": [
              "'Audi'"
            ],
            "application/vnd.google.colaboratory.intrinsic+json": {
              "type": "string"
            }
          },
          "metadata": {},
          "execution_count": 4
        }
      ]
    },
    {
      "cell_type": "code",
      "source": [
        "carlist[2]"
      ],
      "metadata": {
        "colab": {
          "base_uri": "https://localhost:8080/",
          "height": 35
        },
        "id": "HrpPrxgYWEZU",
        "outputId": "b9aade4d-f417-432c-af06-4b342c26e4a9"
      },
      "execution_count": null,
      "outputs": [
        {
          "output_type": "execute_result",
          "data": {
            "text/plain": [
              "'Tesla'"
            ],
            "application/vnd.google.colaboratory.intrinsic+json": {
              "type": "string"
            }
          },
          "metadata": {},
          "execution_count": 5
        }
      ]
    },
    {
      "cell_type": "code",
      "source": [
        "carlist[len(carlist)-1]"
      ],
      "metadata": {
        "colab": {
          "base_uri": "https://localhost:8080/",
          "height": 35
        },
        "id": "S7LcFlFXWGGj",
        "outputId": "d64c7129-711d-4e4a-cb0a-60cac746af16"
      },
      "execution_count": null,
      "outputs": [
        {
          "output_type": "execute_result",
          "data": {
            "text/plain": [
              "'Tata'"
            ],
            "application/vnd.google.colaboratory.intrinsic+json": {
              "type": "string"
            }
          },
          "metadata": {},
          "execution_count": 6
        }
      ]
    },
    {
      "cell_type": "markdown",
      "source": [
        "### List Items"
      ],
      "metadata": {
        "id": "7w0Egqz6Xbfb"
      }
    },
    {
      "cell_type": "code",
      "source": [
        "carlist[1:4]"
      ],
      "metadata": {
        "colab": {
          "base_uri": "https://localhost:8080/"
        },
        "id": "mwC8Njt1WjeU",
        "outputId": "f4d50356-7300-4e13-ad9d-5e3819306687"
      },
      "execution_count": null,
      "outputs": [
        {
          "output_type": "execute_result",
          "data": {
            "text/plain": [
              "['BMW', 'Tesla', 'Tata']"
            ]
          },
          "metadata": {},
          "execution_count": 7
        }
      ]
    },
    {
      "cell_type": "code",
      "source": [
        "carlist[:2]"
      ],
      "metadata": {
        "colab": {
          "base_uri": "https://localhost:8080/"
        },
        "id": "zkIy9XsmXwsb",
        "outputId": "68f002bc-09b1-4dbc-d781-f9c5f7bb7d74"
      },
      "execution_count": null,
      "outputs": [
        {
          "output_type": "execute_result",
          "data": {
            "text/plain": [
              "['Audi', 'BMW']"
            ]
          },
          "metadata": {},
          "execution_count": 8
        }
      ]
    },
    {
      "cell_type": "code",
      "source": [
        "carlist[-3:-1]"
      ],
      "metadata": {
        "colab": {
          "base_uri": "https://localhost:8080/"
        },
        "id": "DmdahzFwZIra",
        "outputId": "0ef26168-99c9-48c2-fe16-6f039159c0eb"
      },
      "execution_count": null,
      "outputs": [
        {
          "output_type": "execute_result",
          "data": {
            "text/plain": [
              "['BMW', 'Tesla']"
            ]
          },
          "metadata": {},
          "execution_count": 9
        }
      ]
    },
    {
      "cell_type": "code",
      "source": [
        "carlist[-3:]"
      ],
      "metadata": {
        "colab": {
          "base_uri": "https://localhost:8080/"
        },
        "id": "qkYcTlpIZv-w",
        "outputId": "84772816-3a41-4ee9-8f7c-586efb9b6499"
      },
      "execution_count": null,
      "outputs": [
        {
          "output_type": "execute_result",
          "data": {
            "text/plain": [
              "['BMW', 'Tesla', 'Tata']"
            ]
          },
          "metadata": {},
          "execution_count": 10
        }
      ]
    },
    {
      "cell_type": "code",
      "source": [
        "carlist[2:3]=[\"Toyata\",\"Honda\"]\n",
        "print(carlist)"
      ],
      "metadata": {
        "colab": {
          "base_uri": "https://localhost:8080/"
        },
        "id": "RrYGZMboZ3Vk",
        "outputId": "bd4f9eb1-6a5e-4ced-f2cd-b4a2d258d424"
      },
      "execution_count": null,
      "outputs": [
        {
          "output_type": "stream",
          "name": "stdout",
          "text": [
            "['Audi', 'BMW', 'Toyata', 'Honda', 'Tata']\n"
          ]
        }
      ]
    },
    {
      "cell_type": "code",
      "source": [
        "carlist.append(\"Toyata\")\n",
        "print(carlist)"
      ],
      "metadata": {
        "colab": {
          "base_uri": "https://localhost:8080/"
        },
        "id": "Qg1eyIIwb9AK",
        "outputId": "7f75fcc2-114b-459c-976c-500b33918595"
      },
      "execution_count": null,
      "outputs": [
        {
          "output_type": "stream",
          "name": "stdout",
          "text": [
            "['Audi', 'BMW', 'Toyata', 'Honda', 'Tata', 'Toyata']\n"
          ]
        }
      ]
    },
    {
      "cell_type": "markdown",
      "source": [
        "### Add and Remove List items"
      ],
      "metadata": {
        "id": "lAZ76-lExLLl"
      }
    },
    {
      "cell_type": "code",
      "source": [
        "carlist = [\"Audi\",\"BMW\",\"Tesla\",\"Tata\"]\n",
        "carlist.append(\"Honda\")\n",
        "print(carlist)"
      ],
      "metadata": {
        "colab": {
          "base_uri": "https://localhost:8080/"
        },
        "id": "_A9TJyK1xOI1",
        "outputId": "f73d2257-4586-4df1-cdd6-acd6c17d1e78"
      },
      "execution_count": null,
      "outputs": [
        {
          "output_type": "stream",
          "name": "stdout",
          "text": [
            "['Audi', 'BMW', 'Tesla', 'Tata', 'Honda']\n"
          ]
        }
      ]
    },
    {
      "cell_type": "code",
      "source": [
        "carlist.insert(0,\"Sabith\")\n",
        "print(carlist)"
      ],
      "metadata": {
        "colab": {
          "base_uri": "https://localhost:8080/"
        },
        "id": "D0il1Wmsxaib",
        "outputId": "34f3cdcc-b03a-454b-84ce-47d600b78001"
      },
      "execution_count": null,
      "outputs": [
        {
          "output_type": "stream",
          "name": "stdout",
          "text": [
            "['Sabith', 'Sabith', 'Audi', 'BMW', 'Tesla', 'Tata', 'Honda']\n"
          ]
        }
      ]
    },
    {
      "cell_type": "code",
      "source": [
        "carlist1 = [\"sab\",\"saT\",\"Audi\"]\n",
        "carlist2 = [\"Lamborgire\",\"Staih\"]\n",
        "carlist1.extend(carlist2)\n",
        "print(carlist1)"
      ],
      "metadata": {
        "colab": {
          "base_uri": "https://localhost:8080/"
        },
        "id": "aEldCIcSxfUF",
        "outputId": "fbb526f9-5e3b-4099-ea0d-87328c6de56c"
      },
      "execution_count": null,
      "outputs": [
        {
          "output_type": "stream",
          "name": "stdout",
          "text": [
            "['sab', 'saT', 'Audi', 'Lamborgire', 'Staih']\n"
          ]
        }
      ]
    },
    {
      "cell_type": "code",
      "source": [
        "new_list = carlist1.copy()\n",
        "print(new_list)"
      ],
      "metadata": {
        "colab": {
          "base_uri": "https://localhost:8080/"
        },
        "id": "skJqZ70kxvps",
        "outputId": "00e5a41f-05fb-4970-9e8d-22bed8a87d16"
      },
      "execution_count": null,
      "outputs": [
        {
          "output_type": "stream",
          "name": "stdout",
          "text": [
            "['sab', 'saT', 'Audi', 'Lamborgire', 'Staih']\n"
          ]
        }
      ]
    },
    {
      "cell_type": "markdown",
      "source": [
        "### Sort List"
      ],
      "metadata": {
        "id": "6bh_Nq1Lyee0"
      }
    },
    {
      "cell_type": "code",
      "source": [],
      "metadata": {
        "id": "xc53zE9Uyt0U"
      },
      "execution_count": null,
      "outputs": []
    },
    {
      "cell_type": "code",
      "source": [
        "number = [10,20,25,2,4,7,9,90]\n",
        "number.sort()\n",
        "print(number)"
      ],
      "metadata": {
        "colab": {
          "base_uri": "https://localhost:8080/"
        },
        "id": "6nwYaNodyggT",
        "outputId": "e83b248d-e159-475f-fd36-6d329e8810aa"
      },
      "execution_count": null,
      "outputs": [
        {
          "output_type": "stream",
          "name": "stdout",
          "text": [
            "[2, 4, 7, 9, 10, 20, 25, 90]\n"
          ]
        }
      ]
    },
    {
      "cell_type": "code",
      "source": [
        "number.sort(reverse=True)\n",
        "print(number)"
      ],
      "metadata": {
        "colab": {
          "base_uri": "https://localhost:8080/"
        },
        "id": "2-A6GOwKyuS9",
        "outputId": "51920a56-b893-414f-e91b-89a6e129ab33"
      },
      "execution_count": null,
      "outputs": [
        {
          "output_type": "stream",
          "name": "stdout",
          "text": [
            "[90, 25, 20, 10, 9, 7, 4, 2]\n"
          ]
        }
      ]
    },
    {
      "cell_type": "markdown",
      "source": [
        "### Join Lists"
      ],
      "metadata": {
        "id": "IsBcXgPjz5l5"
      }
    },
    {
      "cell_type": "code",
      "source": [
        "carlist1 = [\"Sab\",\"tas\",\"sat\"]\n",
        "carlist2 = [\"tas\",\"ew\"]\n",
        "new_carlist = carlist1 + carlist2\n",
        "print(new_carlist)"
      ],
      "metadata": {
        "colab": {
          "base_uri": "https://localhost:8080/"
        },
        "id": "xEUFfLbmz7gz",
        "outputId": "5f9616b8-24c1-487d-e384-1ea766615f9b"
      },
      "execution_count": null,
      "outputs": [
        {
          "output_type": "stream",
          "name": "stdout",
          "text": [
            "['Sab', 'tas', 'sat', 'tas', 'ew']\n"
          ]
        }
      ]
    },
    {
      "cell_type": "code",
      "source": [
        "new_carlist = carlist1.copy()\n",
        "for item in carlist2:\n",
        "  new_carlist.append(item)\n",
        "\n",
        "print(new_carlist)"
      ],
      "metadata": {
        "colab": {
          "base_uri": "https://localhost:8080/"
        },
        "id": "2xvW_DGu0rwn",
        "outputId": "1372922c-b983-401e-ec12-b92b4ac03a72"
      },
      "execution_count": null,
      "outputs": [
        {
          "output_type": "stream",
          "name": "stdout",
          "text": [
            "['Sab', 'tas', 'sat', 'tas', 'ew']\n"
          ]
        }
      ]
    },
    {
      "cell_type": "markdown",
      "source": [
        "### Tuple"
      ],
      "metadata": {
        "id": "5GWqQs3f1e7S"
      }
    },
    {
      "cell_type": "code",
      "source": [
        "carlist = ('Sabit','Stw','Tstt')\n",
        "print(carlist)"
      ],
      "metadata": {
        "colab": {
          "base_uri": "https://localhost:8080/"
        },
        "id": "z3yAFIbe1EXf",
        "outputId": "ae10046e-cb6b-4a1c-86d1-4b8dd1c21678"
      },
      "execution_count": null,
      "outputs": [
        {
          "output_type": "stream",
          "name": "stdout",
          "text": [
            "('Sabit', 'Stw', 'Tstt')\n"
          ]
        }
      ]
    },
    {
      "cell_type": "code",
      "source": [
        "type(carlist)"
      ],
      "metadata": {
        "colab": {
          "base_uri": "https://localhost:8080/"
        },
        "id": "o-khhN1o156l",
        "outputId": "e537fa2e-0c49-4e2b-9882-4477489d95f4"
      },
      "execution_count": null,
      "outputs": [
        {
          "output_type": "execute_result",
          "data": {
            "text/plain": [
              "tuple"
            ]
          },
          "metadata": {},
          "execution_count": 15
        }
      ]
    },
    {
      "cell_type": "markdown",
      "source": [
        "Tuple items are ordered,unchangable, and allow duplicate values.\n",
        "Tuple items are indexed,the first item has index[0],the second item has index[1] etc"
      ],
      "metadata": {
        "id": "2gdN5_Ym2CeQ"
      }
    },
    {
      "cell_type": "code",
      "source": [
        "carlist=('sa','dsf','erew')\n",
        "print(carlist)"
      ],
      "metadata": {
        "colab": {
          "base_uri": "https://localhost:8080/"
        },
        "id": "yQfDYdzF2Bh0",
        "outputId": "594c056b-80d8-43f3-f166-6d8b91cad375"
      },
      "execution_count": null,
      "outputs": [
        {
          "output_type": "stream",
          "name": "stdout",
          "text": [
            "('sa', 'dsf', 'erew')\n"
          ]
        }
      ]
    },
    {
      "cell_type": "code",
      "source": [
        "carlist[0]"
      ],
      "metadata": {
        "colab": {
          "base_uri": "https://localhost:8080/",
          "height": 35
        },
        "id": "DruAmNzX19zE",
        "outputId": "d98a2678-8b8e-4707-d6f9-f2d868fd9278"
      },
      "execution_count": null,
      "outputs": [
        {
          "output_type": "execute_result",
          "data": {
            "text/plain": [
              "'sa'"
            ],
            "application/vnd.google.colaboratory.intrinsic+json": {
              "type": "string"
            }
          },
          "metadata": {},
          "execution_count": 17
        }
      ]
    },
    {
      "cell_type": "code",
      "source": [
        "carlist[0] = \"sabn\""
      ],
      "metadata": {
        "colab": {
          "base_uri": "https://localhost:8080/",
          "height": 141
        },
        "id": "LqmbKOQC2mEs",
        "outputId": "594f2a44-ade6-4c81-a3c0-dff407970192"
      },
      "execution_count": null,
      "outputs": [
        {
          "output_type": "error",
          "ename": "TypeError",
          "evalue": "'tuple' object does not support item assignment",
          "traceback": [
            "\u001b[0;31m---------------------------------------------------------------------------\u001b[0m",
            "\u001b[0;31mTypeError\u001b[0m                                 Traceback (most recent call last)",
            "\u001b[0;32m<ipython-input-18-1d4df5158302>\u001b[0m in \u001b[0;36m<cell line: 0>\u001b[0;34m()\u001b[0m\n\u001b[0;32m----> 1\u001b[0;31m \u001b[0mcarlist\u001b[0m\u001b[0;34m[\u001b[0m\u001b[0;36m0\u001b[0m\u001b[0;34m]\u001b[0m \u001b[0;34m=\u001b[0m \u001b[0;34m\"sabn\"\u001b[0m\u001b[0;34m\u001b[0m\u001b[0;34m\u001b[0m\u001b[0m\n\u001b[0m",
            "\u001b[0;31mTypeError\u001b[0m: 'tuple' object does not support item assignment"
          ]
        }
      ]
    },
    {
      "cell_type": "markdown",
      "source": [
        "## you may check the tuple as you check the list"
      ],
      "metadata": {
        "id": "k3ElFF9a3Ath"
      }
    },
    {
      "cell_type": "code",
      "source": [
        "carlist = ('Audi','Tata','Toyota','BMW')\n",
        "print(len(carlist))"
      ],
      "metadata": {
        "colab": {
          "base_uri": "https://localhost:8080/"
        },
        "id": "tMb06Dvg22xk",
        "outputId": "fb2ffd82-eeac-46e1-e927-cd030a5bc296"
      },
      "execution_count": null,
      "outputs": [
        {
          "output_type": "stream",
          "name": "stdout",
          "text": [
            "4\n"
          ]
        }
      ]
    },
    {
      "cell_type": "code",
      "source": [
        "carlist[2:5]"
      ],
      "metadata": {
        "colab": {
          "base_uri": "https://localhost:8080/"
        },
        "id": "BAzbmoQv3P7A",
        "outputId": "8ff29baa-2a96-4cf9-c966-a04456765e02"
      },
      "execution_count": null,
      "outputs": [
        {
          "output_type": "execute_result",
          "data": {
            "text/plain": [
              "('Toyota', 'BMW')"
            ]
          },
          "metadata": {},
          "execution_count": 20
        }
      ]
    },
    {
      "cell_type": "code",
      "source": [
        "carlist[3:]"
      ],
      "metadata": {
        "colab": {
          "base_uri": "https://localhost:8080/"
        },
        "id": "Vj0hLG0g3SME",
        "outputId": "af339a22-df65-436f-d3a0-b11354866727"
      },
      "execution_count": null,
      "outputs": [
        {
          "output_type": "execute_result",
          "data": {
            "text/plain": [
              "('BMW',)"
            ]
          },
          "metadata": {},
          "execution_count": 22
        }
      ]
    },
    {
      "cell_type": "code",
      "source": [
        "carlist[-1]"
      ],
      "metadata": {
        "colab": {
          "base_uri": "https://localhost:8080/",
          "height": 35
        },
        "id": "9xgX9WOP3dAj",
        "outputId": "3f8b66ce-7cd0-47e7-dda9-e5fafde1fb8a"
      },
      "execution_count": null,
      "outputs": [
        {
          "output_type": "execute_result",
          "data": {
            "text/plain": [
              "'BMW'"
            ],
            "application/vnd.google.colaboratory.intrinsic+json": {
              "type": "string"
            }
          },
          "metadata": {},
          "execution_count": 23
        }
      ]
    },
    {
      "cell_type": "markdown",
      "source": [
        "Add and Remove List items"
      ],
      "metadata": {
        "id": "1dTU1zT93hDk"
      }
    },
    {
      "cell_type": "code",
      "source": [
        "carlist = ('Audi','tu')\n",
        "carlist = list(carlist)\n",
        "carlist.append(\"honda\")\n",
        "carlist = tuple(carlist)\n",
        "print(carlist)\n"
      ],
      "metadata": {
        "colab": {
          "base_uri": "https://localhost:8080/"
        },
        "id": "gfU4peA93jeN",
        "outputId": "79c18f7c-4f82-4a1f-ee63-25069ac7cc9a"
      },
      "execution_count": null,
      "outputs": [
        {
          "output_type": "stream",
          "name": "stdout",
          "text": [
            "('Audi', 'tu', 'honda')\n"
          ]
        }
      ]
    },
    {
      "cell_type": "code",
      "source": [
        "carlist=('BMW','ere')\n",
        "carlist = list(carlist)\n",
        "carlist.remove('BMW')\n",
        "carlist = tuple(carlist)\n",
        "print(carlist)"
      ],
      "metadata": {
        "colab": {
          "base_uri": "https://localhost:8080/"
        },
        "id": "ec2onA8m4KS5",
        "outputId": "36dc4399-c11f-49f9-e772-737f5ee7b26b"
      },
      "execution_count": null,
      "outputs": [
        {
          "output_type": "stream",
          "name": "stdout",
          "text": [
            "('ere',)\n"
          ]
        }
      ]
    },
    {
      "cell_type": "code",
      "source": [],
      "metadata": {
        "id": "U2A5Pwop4ekN"
      },
      "execution_count": null,
      "outputs": []
    },
    {
      "cell_type": "code",
      "source": [],
      "metadata": {
        "id": "liJIeAFr4g9M"
      },
      "execution_count": null,
      "outputs": []
    },
    {
      "cell_type": "markdown",
      "source": [
        "### **Set**\n",
        "Set items are unordered,unchangable,and do not allow duplicate values"
      ],
      "metadata": {
        "id": "SZBNP_va4wgl"
      }
    },
    {
      "cell_type": "code",
      "source": [
        "carset = {'Audi','tata','Toyata','Hundai','BMW','Tesla'}\n",
        "print(carlist)"
      ],
      "metadata": {
        "colab": {
          "base_uri": "https://localhost:8080/"
        },
        "id": "R1NCj3yd4zGL",
        "outputId": "a68a94cd-4285-4e1b-9e4b-95d701b6e733"
      },
      "execution_count": null,
      "outputs": [
        {
          "output_type": "stream",
          "name": "stdout",
          "text": [
            "{'Toyata', 'BMW', 'Audi', 'Tesla', 'Hundai', 'tata'}\n"
          ]
        }
      ]
    },
    {
      "cell_type": "code",
      "source": [
        "type(carset)"
      ],
      "metadata": {
        "colab": {
          "base_uri": "https://localhost:8080/"
        },
        "id": "nkTO_Sfh5nBI",
        "outputId": "a31e8230-d758-4638-c2db-67ad83cc819f"
      },
      "execution_count": null,
      "outputs": [
        {
          "output_type": "execute_result",
          "data": {
            "text/plain": [
              "set"
            ]
          },
          "metadata": {},
          "execution_count": 31
        }
      ]
    },
    {
      "cell_type": "code",
      "source": [
        "carset = {'Audi','tata','Toyata','Hundai','BMW','Tesla','Audi',1,23,3}\n",
        "print(carset) ## Automatically  remove duplicate values"
      ],
      "metadata": {
        "colab": {
          "base_uri": "https://localhost:8080/"
        },
        "id": "b_OgU13k5rOg",
        "outputId": "aba69946-eede-48f3-c692-d0af5f684c19"
      },
      "execution_count": null,
      "outputs": [
        {
          "output_type": "stream",
          "name": "stdout",
          "text": [
            "{1, 3, 'BMW', 'Audi', 'Toyata', 23, 'Tesla', 'Hundai', 'tata'}\n"
          ]
        }
      ]
    },
    {
      "cell_type": "markdown",
      "source": [
        "### Access Set items"
      ],
      "metadata": {
        "id": "jtFIlUNt6tc5"
      }
    },
    {
      "cell_type": "code",
      "source": [
        "carset = {'Audi','Tata','Toyota','Hundai'}\n",
        "for item in carset:\n",
        "  print(item)"
      ],
      "metadata": {
        "colab": {
          "base_uri": "https://localhost:8080/"
        },
        "id": "D1b7rvIV6GfI",
        "outputId": "fab7abcc-fcd2-43e6-e964-e3cf52874e21"
      },
      "execution_count": null,
      "outputs": [
        {
          "output_type": "stream",
          "name": "stdout",
          "text": [
            "Hundai\n",
            "Tata\n",
            "Audi\n",
            "Toyota\n"
          ]
        }
      ]
    },
    {
      "cell_type": "code",
      "source": [
        "\"tata\" in carset"
      ],
      "metadata": {
        "colab": {
          "base_uri": "https://localhost:8080/"
        },
        "id": "wc8V2zEP64vH",
        "outputId": "da5de22f-ffa8-456c-cda2-590cf9e89e56"
      },
      "execution_count": null,
      "outputs": [
        {
          "output_type": "execute_result",
          "data": {
            "text/plain": [
              "False"
            ]
          },
          "metadata": {},
          "execution_count": 36
        }
      ]
    },
    {
      "cell_type": "markdown",
      "source": [
        "### Add set items"
      ],
      "metadata": {
        "id": "PfyjLh2B7DWm"
      }
    },
    {
      "cell_type": "code",
      "source": [
        "carset = {'Sih','Sfe','abih'}\n",
        "carset.add(\"honda\")\n",
        "print(carset)"
      ],
      "metadata": {
        "colab": {
          "base_uri": "https://localhost:8080/"
        },
        "id": "FtWONix169ga",
        "outputId": "9b1a237e-4d8d-447b-c76d-9b4aa42cebad"
      },
      "execution_count": null,
      "outputs": [
        {
          "output_type": "stream",
          "name": "stdout",
          "text": [
            "{'abih', 'Sih', 'Sfe', 'honda'}\n"
          ]
        }
      ]
    },
    {
      "cell_type": "code",
      "source": [
        "carset1={'Audi','Tata','toyata'}\n",
        "carset2 = {'honda','Maruti','Kia'}\n",
        "carset1.update(carset2)\n",
        "print(carset1)"
      ],
      "metadata": {
        "colab": {
          "base_uri": "https://localhost:8080/"
        },
        "id": "Duj6ztcl7Nwq",
        "outputId": "d6112d31-03f9-4f07-b72a-3812cdaae0ca"
      },
      "execution_count": null,
      "outputs": [
        {
          "output_type": "stream",
          "name": "stdout",
          "text": [
            "{'Kia', 'Audi', 'Maruti', 'Tata', 'honda', 'toyata'}\n"
          ]
        }
      ]
    },
    {
      "cell_type": "markdown",
      "source": [
        "### Dictionary\n",
        "Dictionary is ordered and changable"
      ],
      "metadata": {
        "id": "vVmAaQUYA6OJ"
      }
    },
    {
      "cell_type": "code",
      "source": [
        "cardict = {\n",
        "    \"brand\": \"Ford\",\n",
        "    \"model\": \"Mustang\",\n",
        "    \"year\" : 1964\n",
        "}\n",
        "print(cardict)"
      ],
      "metadata": {
        "colab": {
          "base_uri": "https://localhost:8080/"
        },
        "id": "Fqm6MuJp_-02",
        "outputId": "b4847ca6-ee21-4038-a540-7cc334d102a5"
      },
      "execution_count": null,
      "outputs": [
        {
          "output_type": "stream",
          "name": "stdout",
          "text": [
            "{'brand': 'Ford', 'model': 'Mustang', 'year': 1964}\n"
          ]
        }
      ]
    },
    {
      "cell_type": "code",
      "source": [
        "type(cardict)"
      ],
      "metadata": {
        "colab": {
          "base_uri": "https://localhost:8080/"
        },
        "id": "gOmx6ahTBFo0",
        "outputId": "b89df059-8fc4-485a-9e2f-f32ec2a67092"
      },
      "execution_count": null,
      "outputs": [
        {
          "output_type": "execute_result",
          "data": {
            "text/plain": [
              "dict"
            ]
          },
          "metadata": {},
          "execution_count": 40
        }
      ]
    },
    {
      "cell_type": "code",
      "source": [
        "cardict[\"brand\"]"
      ],
      "metadata": {
        "colab": {
          "base_uri": "https://localhost:8080/",
          "height": 35
        },
        "id": "Qe_ii8m_BKYb",
        "outputId": "f1317810-b1b7-486f-e668-adb7088d98b1"
      },
      "execution_count": null,
      "outputs": [
        {
          "output_type": "execute_result",
          "data": {
            "text/plain": [
              "'Ford'"
            ],
            "application/vnd.google.colaboratory.intrinsic+json": {
              "type": "string"
            }
          },
          "metadata": {},
          "execution_count": 41
        }
      ]
    },
    {
      "cell_type": "code",
      "source": [
        "cardict[\"model\"]"
      ],
      "metadata": {
        "colab": {
          "base_uri": "https://localhost:8080/",
          "height": 35
        },
        "id": "RJ0kkOzQBf0a",
        "outputId": "7ed2a9e5-5ec3-44be-9628-0a5378ab0b64"
      },
      "execution_count": null,
      "outputs": [
        {
          "output_type": "execute_result",
          "data": {
            "text/plain": [
              "'Mustang'"
            ],
            "application/vnd.google.colaboratory.intrinsic+json": {
              "type": "string"
            }
          },
          "metadata": {},
          "execution_count": 42
        }
      ]
    },
    {
      "cell_type": "code",
      "source": [
        "cardict[\"model\"] = \"HF\"\n",
        "print(cardict)"
      ],
      "metadata": {
        "colab": {
          "base_uri": "https://localhost:8080/"
        },
        "id": "FjI83hojBjH0",
        "outputId": "65ac547f-98c1-4618-9d5b-3578a52b8c02"
      },
      "execution_count": null,
      "outputs": [
        {
          "output_type": "stream",
          "name": "stdout",
          "text": [
            "{'brand': 'Ford', 'model': 'HF', 'year': 1964}\n"
          ]
        }
      ]
    },
    {
      "cell_type": "code",
      "source": [
        "len(cardict)"
      ],
      "metadata": {
        "colab": {
          "base_uri": "https://localhost:8080/"
        },
        "id": "PnonpW4QBoAE",
        "outputId": "6a5be2a3-6399-41da-d6f3-c22f80db0e01"
      },
      "execution_count": null,
      "outputs": [
        {
          "output_type": "execute_result",
          "data": {
            "text/plain": [
              "3"
            ]
          },
          "metadata": {},
          "execution_count": 44
        }
      ]
    },
    {
      "cell_type": "code",
      "source": [
        "cardict.get(\"brand\")"
      ],
      "metadata": {
        "colab": {
          "base_uri": "https://localhost:8080/",
          "height": 35
        },
        "id": "JtOqfsLgByO9",
        "outputId": "9c7dd186-3426-4723-8721-f6153e14b23f"
      },
      "execution_count": null,
      "outputs": [
        {
          "output_type": "execute_result",
          "data": {
            "text/plain": [
              "'Ford'"
            ],
            "application/vnd.google.colaboratory.intrinsic+json": {
              "type": "string"
            }
          },
          "metadata": {},
          "execution_count": 45
        }
      ]
    },
    {
      "cell_type": "code",
      "source": [
        "cardict.keys()"
      ],
      "metadata": {
        "colab": {
          "base_uri": "https://localhost:8080/"
        },
        "id": "qvVhlQRTB5Ug",
        "outputId": "597e323c-828f-4f7c-e237-1ccb5c8fa2ea"
      },
      "execution_count": null,
      "outputs": [
        {
          "output_type": "execute_result",
          "data": {
            "text/plain": [
              "dict_keys(['brand', 'model', 'year'])"
            ]
          },
          "metadata": {},
          "execution_count": 46
        }
      ]
    },
    {
      "cell_type": "code",
      "source": [
        "cardict.values()"
      ],
      "metadata": {
        "colab": {
          "base_uri": "https://localhost:8080/"
        },
        "id": "oAJwX6XxB-qj",
        "outputId": "32a8e661-d394-433b-dce1-b5ea835b6bcf"
      },
      "execution_count": null,
      "outputs": [
        {
          "output_type": "execute_result",
          "data": {
            "text/plain": [
              "dict_values(['Ford', 'HF', 1964])"
            ]
          },
          "metadata": {},
          "execution_count": 47
        }
      ]
    },
    {
      "cell_type": "code",
      "source": [
        "cardict.items()"
      ],
      "metadata": {
        "colab": {
          "base_uri": "https://localhost:8080/"
        },
        "id": "SCMteOUeCA9-",
        "outputId": "27278ab4-8d16-4440-f261-1cd49cefa41d"
      },
      "execution_count": null,
      "outputs": [
        {
          "output_type": "execute_result",
          "data": {
            "text/plain": [
              "dict_items([('brand', 'Ford'), ('model', 'HF'), ('year', 1964)])"
            ]
          },
          "metadata": {},
          "execution_count": 48
        }
      ]
    },
    {
      "cell_type": "markdown",
      "source": [
        "c"
      ],
      "metadata": {
        "id": "Bjf6asWEdKRV"
      }
    },
    {
      "cell_type": "code",
      "source": [
        "cardict = {\n",
        "    \"Brand\" : \"Ford\",\n",
        "    \"Model\" : \"Mustang\",\n",
        "    \"Year\"  : 1964,\n",
        "    \"PatrolEngine\": True\n",
        "}"
      ],
      "metadata": {
        "id": "74Um9aBeCQ65"
      },
      "execution_count": null,
      "outputs": []
    },
    {
      "cell_type": "code",
      "source": [
        "cardict[\"Model\"] = \"GT\""
      ],
      "metadata": {
        "id": "9JrOPasSChQ2"
      },
      "execution_count": null,
      "outputs": []
    },
    {
      "cell_type": "code",
      "source": [
        "print(cardict)"
      ],
      "metadata": {
        "colab": {
          "base_uri": "https://localhost:8080/"
        },
        "id": "QeQWRuZECmj_",
        "outputId": "868197ac-9911-490c-aa41-5ae7d2e7973a"
      },
      "execution_count": null,
      "outputs": [
        {
          "output_type": "stream",
          "name": "stdout",
          "text": [
            "{'Brand': 'Ford', 'Model': 'GT', 'Year': 1964, 'PatrolEngine': True}\n"
          ]
        }
      ]
    },
    {
      "cell_type": "code",
      "source": [
        "cardict = {\n",
        "    \"Brand\" :\"Ford\",\n",
        "    \"Model\" :\" mounty\",\n",
        "    \"Year\" : 1964,\n",
        "    \"PatrolEngine\":True\n",
        "}\n",
        "cardict[\"Model\"]=\"GT\"\n"
      ],
      "metadata": {
        "id": "8lhwzSugCoU6"
      },
      "execution_count": null,
      "outputs": []
    },
    {
      "cell_type": "code",
      "source": [
        "cardict[\"IsOkay\"] =1\n",
        "print(cardict)\n"
      ],
      "metadata": {
        "colab": {
          "base_uri": "https://localhost:8080/"
        },
        "id": "w0MQYoq6N5eS",
        "outputId": "19bfcb46-b741-4c4b-cb90-f85af2ba7fd3"
      },
      "execution_count": null,
      "outputs": [
        {
          "output_type": "stream",
          "name": "stdout",
          "text": [
            "{'Brand': 'Ford', 'Model': 'GT', 'Year': 1964, 'PatrolEngine': True, 'IsOkay': 1}\n"
          ]
        }
      ]
    },
    {
      "cell_type": "code",
      "source": [
        "cardict.pop(\"Model\")"
      ],
      "metadata": {
        "colab": {
          "base_uri": "https://localhost:8080/",
          "height": 35
        },
        "id": "Yd6lIJOGN_GA",
        "outputId": "8bda141e-204c-47bc-9112-6662e175a6d2"
      },
      "execution_count": null,
      "outputs": [
        {
          "output_type": "execute_result",
          "data": {
            "text/plain": [
              "'GT'"
            ],
            "application/vnd.google.colaboratory.intrinsic+json": {
              "type": "string"
            }
          },
          "metadata": {},
          "execution_count": 54
        }
      ]
    },
    {
      "cell_type": "code",
      "source": [
        "del cardict[\"Year\"]"
      ],
      "metadata": {
        "id": "uwlV8wWYOD6K"
      },
      "execution_count": null,
      "outputs": []
    },
    {
      "cell_type": "code",
      "source": [
        "print(cardict)"
      ],
      "metadata": {
        "colab": {
          "base_uri": "https://localhost:8080/"
        },
        "id": "VKhsMp-ZOG27",
        "outputId": "20b0552b-b1d3-4860-ee63-0fb700f445a6"
      },
      "execution_count": null,
      "outputs": [
        {
          "output_type": "stream",
          "name": "stdout",
          "text": [
            "{'Brand': 'Ford', 'PatrolEngine': True, 'IsOkay': 1}\n"
          ]
        }
      ]
    },
    {
      "cell_type": "markdown",
      "source": [
        "### Nested Dictionaries"
      ],
      "metadata": {
        "id": "btjmz6CFOJid"
      }
    },
    {
      "cell_type": "code",
      "source": [
        "student = {\n",
        "    \"Height\" : [175,178, 182],\n",
        "    \"Weight\" : [78,82,65]\n",
        "}"
      ],
      "metadata": {
        "id": "lJnChe8ZOImd"
      },
      "execution_count": null,
      "outputs": []
    },
    {
      "cell_type": "code",
      "source": [
        "student[\"Height\"]"
      ],
      "metadata": {
        "colab": {
          "base_uri": "https://localhost:8080/"
        },
        "id": "AOks0ffnOccp",
        "outputId": "76696617-dd3c-427c-bda1-f522acc78b6c"
      },
      "execution_count": null,
      "outputs": [
        {
          "output_type": "execute_result",
          "data": {
            "text/plain": [
              "[175, 178, 182]"
            ]
          },
          "metadata": {},
          "execution_count": 59
        }
      ]
    },
    {
      "cell_type": "code",
      "source": [
        "type(student[\"Height\"])"
      ],
      "metadata": {
        "colab": {
          "base_uri": "https://localhost:8080/"
        },
        "id": "dYXRkbaHOkVa",
        "outputId": "85042e50-4dc0-4b9c-ffc5-5692ca74cfcc"
      },
      "execution_count": null,
      "outputs": [
        {
          "output_type": "execute_result",
          "data": {
            "text/plain": [
              "list"
            ]
          },
          "metadata": {},
          "execution_count": 60
        }
      ]
    },
    {
      "cell_type": "code",
      "source": [
        "student[\"Weight\"][2]"
      ],
      "metadata": {
        "colab": {
          "base_uri": "https://localhost:8080/"
        },
        "id": "tZBloXqkOxUz",
        "outputId": "759004fc-9a83-44a4-beff-e2488f05d7db"
      },
      "execution_count": null,
      "outputs": [
        {
          "output_type": "execute_result",
          "data": {
            "text/plain": [
              "65"
            ]
          },
          "metadata": {},
          "execution_count": 61
        }
      ]
    },
    {
      "cell_type": "code",
      "source": [
        "student = {\n",
        "    \"Asif\":{\"age\":2,\"City\":\"Chittagong\",\"Class\":23},\n",
        "    \"Dipon\": {\"age\":23,\"City\":\"Chittagong\",\"Class\":231},\n",
        "    \"Alvey\": {\"Age\":23,\"City\":\"Dhaka\",\"Class\":232}\n",
        "}\n",
        "print(student)"
      ],
      "metadata": {
        "colab": {
          "base_uri": "https://localhost:8080/"
        },
        "id": "G6Vy28DtO6DG",
        "outputId": "b3e2f822-f3ce-43eb-8cb7-557a250eb547"
      },
      "execution_count": null,
      "outputs": [
        {
          "output_type": "stream",
          "name": "stdout",
          "text": [
            "{'Asif': {'age': 2, 'City': 'Chittagong', 'Class': 23}, 'Dipon': {'age': 23, 'City': 'Chittagong', 'Class': 231}, 'Alvey': {'Age': 23, 'City': 'Chittagong', 'Class': 232}}\n"
          ]
        }
      ]
    },
    {
      "cell_type": "code",
      "source": [
        "student[\"Asif\"][\"age\"]"
      ],
      "metadata": {
        "colab": {
          "base_uri": "https://localhost:8080/"
        },
        "id": "fuGv3YaFQjBW",
        "outputId": "ed76333e-c54f-416d-9ea3-799773ecb4bc"
      },
      "execution_count": null,
      "outputs": [
        {
          "output_type": "execute_result",
          "data": {
            "text/plain": [
              "2"
            ]
          },
          "metadata": {},
          "execution_count": 63
        }
      ]
    },
    {
      "cell_type": "code",
      "source": [
        "student[\"Dipon\"][\"Class\"]"
      ],
      "metadata": {
        "colab": {
          "base_uri": "https://localhost:8080/"
        },
        "id": "SFirMeOoQny5",
        "outputId": "f389a6dd-c569-4024-b857-ca7358cc1a4c"
      },
      "execution_count": null,
      "outputs": [
        {
          "output_type": "execute_result",
          "data": {
            "text/plain": [
              "231"
            ]
          },
          "metadata": {},
          "execution_count": 64
        }
      ]
    },
    {
      "cell_type": "markdown",
      "source": [
        "### Nested List"
      ],
      "metadata": {
        "id": "xG1JrHTUQ-Ls"
      }
    },
    {
      "cell_type": "code",
      "source": [
        "student = [\n",
        "    [1,2,3,4],\n",
        "    [2,3],\n",
        "    [23,123,232,234,[12,21,3,2]]\n",
        "]\n",
        "type(student)"
      ],
      "metadata": {
        "colab": {
          "base_uri": "https://localhost:8080/"
        },
        "id": "ynlYdkxvQyUK",
        "outputId": "a60c4c1a-f34c-4494-f2f8-f73c54adff00"
      },
      "execution_count": null,
      "outputs": [
        {
          "output_type": "execute_result",
          "data": {
            "text/plain": [
              "list"
            ]
          },
          "metadata": {},
          "execution_count": 72
        }
      ]
    },
    {
      "cell_type": "code",
      "source": [
        "print(student)"
      ],
      "metadata": {
        "colab": {
          "base_uri": "https://localhost:8080/"
        },
        "id": "Fjrjee2xRW1-",
        "outputId": "b1a7826c-118a-475d-80be-461d3fe45c4d"
      },
      "execution_count": null,
      "outputs": [
        {
          "output_type": "stream",
          "name": "stdout",
          "text": [
            "[[1, 2, 3, 4], [2, 3], [23, 123, 232, 234, [12, 21, 3, 2]]]\n"
          ]
        }
      ]
    },
    {
      "cell_type": "code",
      "source": [
        "student[2][-1][2]"
      ],
      "metadata": {
        "colab": {
          "base_uri": "https://localhost:8080/"
        },
        "id": "PqsSg3hPRTCi",
        "outputId": "5d2c98db-94f6-468c-a4b6-f7fca80ce23b"
      },
      "execution_count": null,
      "outputs": [
        {
          "output_type": "execute_result",
          "data": {
            "text/plain": [
              "3"
            ]
          },
          "metadata": {},
          "execution_count": 74
        }
      ]
    },
    {
      "cell_type": "markdown",
      "source": [
        "### List Comprehension"
      ],
      "metadata": {
        "id": "hfP-vZmIZYZb"
      }
    },
    {
      "cell_type": "code",
      "source": [
        "number = 40\n",
        "if number >= 40:\n",
        "  print(\"pass\")\n",
        "else:\n",
        "  print(\"fail\")"
      ],
      "metadata": {
        "colab": {
          "base_uri": "https://localhost:8080/"
        },
        "id": "IYAH-V4_YLGU",
        "outputId": "c90ba148-2938-48a8-c9b3-431b8b6b8157"
      },
      "execution_count": null,
      "outputs": [
        {
          "output_type": "stream",
          "name": "stdout",
          "text": [
            "pass\n"
          ]
        }
      ]
    },
    {
      "cell_type": "code",
      "source": [
        "number=33\n",
        "print(\"Pass\") if number >=40 else print(\"Fail\")"
      ],
      "metadata": {
        "colab": {
          "base_uri": "https://localhost:8080/"
        },
        "id": "HEpK4-APZkH0",
        "outputId": "7082b7c6-4d37-4558-a009-87d6596bc48f"
      },
      "execution_count": null,
      "outputs": [
        {
          "output_type": "stream",
          "name": "stdout",
          "text": [
            "Fail\n"
          ]
        }
      ]
    },
    {
      "cell_type": "code",
      "source": [
        " number =20\n",
        " print(\"Even\") if number%2==0 else print(\"Odd\")"
      ],
      "metadata": {
        "colab": {
          "base_uri": "https://localhost:8080/"
        },
        "id": "EacgWwWDZtMC",
        "outputId": "4e5c77c8-e17d-40d2-908e-d42ca8e89e9b"
      },
      "execution_count": null,
      "outputs": [
        {
          "output_type": "stream",
          "name": "stdout",
          "text": [
            "Even\n"
          ]
        }
      ]
    },
    {
      "cell_type": "code",
      "source": [
        "for i in range(1,11):\n",
        "  if i%2 == 0:\n",
        "    print(i,\"even\")\n",
        "  else:\n",
        "    print(i,\"Odd\")"
      ],
      "metadata": {
        "colab": {
          "base_uri": "https://localhost:8080/"
        },
        "id": "2YZZOr2GaGIb",
        "outputId": "4efbbc10-fa85-4274-d19d-0149d9a4650f"
      },
      "execution_count": null,
      "outputs": [
        {
          "output_type": "stream",
          "name": "stdout",
          "text": [
            "1 Odd\n",
            "2 even\n",
            "3 Odd\n",
            "4 even\n",
            "5 Odd\n",
            "6 even\n",
            "7 Odd\n",
            "8 even\n",
            "9 Odd\n",
            "10 even\n"
          ]
        }
      ]
    },
    {
      "cell_type": "code",
      "source": [
        "odd=[]\n",
        "even=[]\n",
        "for i in range(1,11):\n",
        "  if i%2 == 0:\n",
        "    even.append(i)\n",
        "  else:\n",
        "    odd.append(i)\n",
        "\n",
        "print(even)\n",
        "print(odd)"
      ],
      "metadata": {
        "colab": {
          "base_uri": "https://localhost:8080/"
        },
        "id": "qFDjO0laaSXj",
        "outputId": "8d869d99-ad5f-4907-f992-f3e33a4a0e38"
      },
      "execution_count": null,
      "outputs": [
        {
          "output_type": "stream",
          "name": "stdout",
          "text": [
            "[2, 4, 6, 8, 10]\n",
            "[1, 3, 5, 7, 9]\n"
          ]
        }
      ]
    },
    {
      "cell_type": "code",
      "source": [
        "odd = []\n",
        "even = []\n",
        "[even.append(i) if i%2 == 0 else odd.append(i) for i in range(1,11)]\n",
        "print(even)\n",
        "print(odd)"
      ],
      "metadata": {
        "colab": {
          "base_uri": "https://localhost:8080/"
        },
        "id": "y55ApEAQarEP",
        "outputId": "7a081945-4bba-4244-825e-6c897f1189a9"
      },
      "execution_count": null,
      "outputs": [
        {
          "output_type": "stream",
          "name": "stdout",
          "text": [
            "[2, 4, 6, 8, 10]\n",
            "[1, 3, 5, 7, 9]\n"
          ]
        }
      ]
    },
    {
      "cell_type": "markdown",
      "source": [
        "### Function\n",
        "A function is a block of code that performs a specific task"
      ],
      "metadata": {
        "id": "eeKGBWFOddWp"
      }
    },
    {
      "cell_type": "code",
      "source": [
        "x1= 10\n",
        "y1= 3\n",
        "x2 = 14\n",
        "y2 = 7\n",
        "distance = ((x2-x1)**2 + (y2-y1)**2)**0.5\n",
        "print(distance)"
      ],
      "metadata": {
        "colab": {
          "base_uri": "https://localhost:8080/"
        },
        "id": "40g8ywFHa0KL",
        "outputId": "1637e1c6-2ba5-4bb7-c39b-90805613ad03"
      },
      "execution_count": null,
      "outputs": [
        {
          "output_type": "stream",
          "name": "stdout",
          "text": [
            "5.656854249492381\n"
          ]
        }
      ]
    },
    {
      "cell_type": "code",
      "source": [
        "def distance_func(x_1,y_1,x_2,y_2):\n",
        "  distance = ((x_2-x_1)**2 + (y_2-y_1)**2)**0.5\n",
        "  return distance"
      ],
      "metadata": {
        "id": "m6qPWuW0gNeD"
      },
      "execution_count": null,
      "outputs": []
    },
    {
      "cell_type": "code",
      "source": [
        "x1= 24\n",
        "y1= 15\n",
        "x2=4\n",
        "y2=14\n",
        "distance=distance_func(x1,y1,x2,y2)\n",
        "print(distance)\n"
      ],
      "metadata": {
        "colab": {
          "base_uri": "https://localhost:8080/"
        },
        "id": "iQkzMRXqgrai",
        "outputId": "8dabf1f8-b542-4a6b-e8ff-619007eeedcc"
      },
      "execution_count": null,
      "outputs": [
        {
          "output_type": "stream",
          "name": "stdout",
          "text": [
            "20.024984394500787\n"
          ]
        }
      ]
    },
    {
      "cell_type": "markdown",
      "source": [
        "### Two things to remember,parameter and Arguments\n",
        "Parameter are the variables listed inside the parenthesis in the function definition.They act like placeholders for the data the function can accept when we call them.Arguments are the actual values that we pass to the function when we call it"
      ],
      "metadata": {
        "id": "0D1trq0Fhlmr"
      }
    },
    {
      "cell_type": "code",
      "source": [
        "def print_my_name(firstname,lastname):\n",
        "  print(f\"My first name is {firstname} and my last name is {lastname}\")"
      ],
      "metadata": {
        "id": "ODJg3_szhd4g"
      },
      "execution_count": null,
      "outputs": []
    },
    {
      "cell_type": "code",
      "source": [
        "print_my_name(\"Abu Bakkar\",\"sabith\")"
      ],
      "metadata": {
        "colab": {
          "base_uri": "https://localhost:8080/"
        },
        "id": "EhrJfFbui1tq",
        "outputId": "fca7d49c-c16a-41e8-954d-a7e78a781c28"
      },
      "execution_count": null,
      "outputs": [
        {
          "output_type": "stream",
          "name": "stdout",
          "text": [
            "My first name is Abu Bakkar and my last name is sabith\n"
          ]
        }
      ]
    },
    {
      "cell_type": "code",
      "source": [
        "def print_my_name_2(Age, *name):\n",
        "  print(f\"My first name is {name[0]} and last name is {name[1]} and my age is {Age}\")\n",
        "  print(name)"
      ],
      "metadata": {
        "id": "gdcgiBesH1y6"
      },
      "execution_count": null,
      "outputs": []
    },
    {
      "cell_type": "code",
      "source": [
        "Age =23"
      ],
      "metadata": {
        "id": "n-qh22iWIaG5"
      },
      "execution_count": null,
      "outputs": []
    },
    {
      "cell_type": "code",
      "source": [],
      "metadata": {
        "id": "vSiIWcaTIcJy"
      },
      "execution_count": null,
      "outputs": []
    },
    {
      "cell_type": "code",
      "source": [
        "print_my_name_2(Age,\"Sabith\",\"kahan\",\"joi\")"
      ],
      "metadata": {
        "id": "amq8wZWKi9XL",
        "colab": {
          "base_uri": "https://localhost:8080/"
        },
        "outputId": "6a4212ef-bd24-432f-8b6d-fb6430425e60"
      },
      "execution_count": null,
      "outputs": [
        {
          "output_type": "stream",
          "name": "stdout",
          "text": [
            "My first name is Sabith and last name is kahan and my age is 23\n",
            "('Sabith', 'kahan', 'joi')\n"
          ]
        }
      ]
    },
    {
      "cell_type": "code",
      "source": [
        "def print_my_name_2(Age, *name):\n",
        "    print(f\"My first name is {name[0]} and last name is {name[1]} and my age is {Age}\")\n",
        "    print(name)\n",
        "\n",
        "print_my_name_2(21,\"Sabith\",\"Kahan\" \"Joi\")\n"
      ],
      "metadata": {
        "colab": {
          "base_uri": "https://localhost:8080/"
        },
        "id": "93JgfXy8G5im",
        "outputId": "55997e67-1231-40c8-cde0-20440f14f6ac"
      },
      "execution_count": null,
      "outputs": [
        {
          "output_type": "stream",
          "name": "stdout",
          "text": [
            "My first name is Sabith and last name is KahanJoi and my age is 21\n",
            "('Sabith', 'KahanJoi')\n"
          ]
        }
      ]
    },
    {
      "cell_type": "markdown",
      "source": [
        "### Default Parameter\n",
        "def_my_function(country=\"Norway\"):print(\"I am from\"+ country)\n",
        "my_function(\"Sweden\")my_function(\"India\")my_function()my_function(\"Brazil\")\n"
      ],
      "metadata": {
        "id": "OY9CKYpYMEQj"
      }
    },
    {
      "cell_type": "code",
      "source": [
        "def print_my_city(city):\n",
        "  print(f\"My city is {city}\")"
      ],
      "metadata": {
        "id": "QvN9qWF9JAoI"
      },
      "execution_count": null,
      "outputs": []
    },
    {
      "cell_type": "code",
      "source": [
        "def print_my_city(firstname,lastname,city=\"Dhaka\"):\n",
        "  print(f\"My first name is {firstname} and my last name is {lastname} and my city is {city}\")"
      ],
      "metadata": {
        "id": "BBEfILn_MhRy"
      },
      "execution_count": null,
      "outputs": []
    },
    {
      "cell_type": "code",
      "source": [
        "print_my_city(\"Sabith\",\"Hossain\")"
      ],
      "metadata": {
        "colab": {
          "base_uri": "https://localhost:8080/"
        },
        "id": "qihO2LbeN9TJ",
        "outputId": "39c7b8e2-d799-4729-84ba-3dbbe89edb11"
      },
      "execution_count": null,
      "outputs": [
        {
          "output_type": "stream",
          "name": "stdout",
          "text": [
            "My first name is Sabith and my last name is Hossain and my city is Dhaka\n"
          ]
        }
      ]
    },
    {
      "cell_type": "code",
      "source": [
        "print_my_city(\"Sabith\",\"Hossain\",\"Chittagong\")"
      ],
      "metadata": {
        "colab": {
          "base_uri": "https://localhost:8080/"
        },
        "id": "gZunE9csODji",
        "outputId": "f64258c7-1195-417c-9871-399dc9dba6a2"
      },
      "execution_count": null,
      "outputs": [
        {
          "output_type": "stream",
          "name": "stdout",
          "text": [
            "My first name is Sabith and my last name is Hossain and my city is Chittagong\n"
          ]
        }
      ]
    },
    {
      "cell_type": "markdown",
      "source": [
        "### Recursion\n"
      ],
      "metadata": {
        "id": "CeDG-EgZOZVB"
      }
    },
    {
      "cell_type": "code",
      "source": [],
      "metadata": {
        "id": "VWq0l2KFOHcK"
      },
      "execution_count": null,
      "outputs": []
    },
    {
      "cell_type": "markdown",
      "source": [
        "### Python Lambda"
      ],
      "metadata": {
        "id": "GhZmCRqKPA8V"
      }
    },
    {
      "cell_type": "code",
      "source": [
        "def add(a,b):\n",
        "  return a+b"
      ],
      "metadata": {
        "id": "B18pGWzfPEkk"
      },
      "execution_count": null,
      "outputs": []
    },
    {
      "cell_type": "code",
      "source": [
        "add(10,23)"
      ],
      "metadata": {
        "colab": {
          "base_uri": "https://localhost:8080/"
        },
        "id": "Mid5n8LQQcxE",
        "outputId": "cfdaf40b-2e4e-44ba-b714-e956cb8dfde7"
      },
      "execution_count": null,
      "outputs": [
        {
          "output_type": "execute_result",
          "data": {
            "text/plain": [
              "33"
            ]
          },
          "metadata": {},
          "execution_count": 17
        }
      ]
    },
    {
      "cell_type": "code",
      "source": [
        "add2 = lambda a,b: a+b"
      ],
      "metadata": {
        "id": "rA6Z3qwDQg5u"
      },
      "execution_count": null,
      "outputs": []
    },
    {
      "cell_type": "code",
      "source": [
        "add2(10,14)"
      ],
      "metadata": {
        "colab": {
          "base_uri": "https://localhost:8080/"
        },
        "id": "BjoLQsN7Qs2E",
        "outputId": "d200d577-362e-4e78-ff28-509f1d124de6"
      },
      "execution_count": null,
      "outputs": [
        {
          "output_type": "execute_result",
          "data": {
            "text/plain": [
              "24"
            ]
          },
          "metadata": {},
          "execution_count": 23
        }
      ]
    },
    {
      "cell_type": "code",
      "source": [
        "def odd_or_even(number):\n",
        "  if number%2 == 0:\n",
        "    return \"Even\"\n",
        "  else:\n",
        "    return \"Odd\""
      ],
      "metadata": {
        "id": "QP3DqE86QzqN"
      },
      "execution_count": null,
      "outputs": []
    },
    {
      "cell_type": "code",
      "source": [
        "odd_or_even(2)"
      ],
      "metadata": {
        "colab": {
          "base_uri": "https://localhost:8080/",
          "height": 35
        },
        "id": "26Dq-zhGRADs",
        "outputId": "57809413-e532-4fe6-9de5-66060811f944"
      },
      "execution_count": null,
      "outputs": [
        {
          "output_type": "execute_result",
          "data": {
            "text/plain": [
              "'Even'"
            ],
            "application/vnd.google.colaboratory.intrinsic+json": {
              "type": "string"
            }
          },
          "metadata": {},
          "execution_count": 25
        }
      ]
    },
    {
      "cell_type": "code",
      "source": [
        "odd_or_even_2 = lambda number: print(\"Even\") if number % 2==0 else print(\"Odd\")"
      ],
      "metadata": {
        "id": "vX1zOHS9RCit"
      },
      "execution_count": null,
      "outputs": []
    },
    {
      "cell_type": "code",
      "source": [
        "odd_or_even_2(21)"
      ],
      "metadata": {
        "colab": {
          "base_uri": "https://localhost:8080/"
        },
        "id": "i29F1xmART9z",
        "outputId": "727544c5-4d25-4661-90a6-512585e150c8"
      },
      "execution_count": null,
      "outputs": [
        {
          "output_type": "stream",
          "name": "stdout",
          "text": [
            "Odd\n"
          ]
        }
      ]
    },
    {
      "cell_type": "code",
      "source": [
        "odd_or_even_2(4)"
      ],
      "metadata": {
        "colab": {
          "base_uri": "https://localhost:8080/"
        },
        "id": "0M4JKZzIRuLs",
        "outputId": "7df3c5aa-6651-4534-e6e3-cee6162fdcd9"
      },
      "execution_count": null,
      "outputs": [
        {
          "output_type": "stream",
          "name": "stdout",
          "text": [
            "Even\n"
          ]
        }
      ]
    },
    {
      "cell_type": "code",
      "source": [
        "def odd_or_even(number):\n",
        "  for i in range(1,number):\n",
        "    if i%2 == 0:\n",
        "      print(i,\"Even\")\n",
        "    else:\n",
        "      print(i,\"odd\")"
      ],
      "metadata": {
        "id": "OljTrIm9Rx1y"
      },
      "execution_count": null,
      "outputs": []
    },
    {
      "cell_type": "code",
      "source": [
        "odd_or_even(10)"
      ],
      "metadata": {
        "colab": {
          "base_uri": "https://localhost:8080/"
        },
        "id": "p1PyrPocSBZN",
        "outputId": "9c2d3553-41c6-47b4-ca9e-2532f44ca085"
      },
      "execution_count": null,
      "outputs": [
        {
          "output_type": "stream",
          "name": "stdout",
          "text": [
            "1 odd\n",
            "2 Even\n",
            "3 odd\n",
            "4 Even\n",
            "5 odd\n",
            "6 Even\n",
            "7 odd\n",
            "8 Even\n",
            "9 odd\n"
          ]
        }
      ]
    },
    {
      "cell_type": "code",
      "source": [
        "odd_or_even_2 = lambda number: [print(i,\"Even\") if i%2 ==0 else print(i,\"Odd\") for i in range(1,number)]"
      ],
      "metadata": {
        "id": "TTkqZpBGSEH2"
      },
      "execution_count": null,
      "outputs": []
    },
    {
      "cell_type": "code",
      "source": [
        "odd_or_even_3= list(map(lambda i: print(i, \"Even\") if i % 2 == 0 else print(i, \"Odd\"), range(1, 15)))\n"
      ],
      "metadata": {
        "colab": {
          "base_uri": "https://localhost:8080/"
        },
        "id": "crk-9Z1vTZnu",
        "outputId": "9a5c8796-c9de-4b19-edc0-a49521ad56b5"
      },
      "execution_count": null,
      "outputs": [
        {
          "output_type": "stream",
          "name": "stdout",
          "text": [
            "1 Odd\n",
            "2 Even\n",
            "3 Odd\n",
            "4 Even\n",
            "5 Odd\n",
            "6 Even\n",
            "7 Odd\n",
            "8 Even\n",
            "9 Odd\n",
            "10 Even\n",
            "11 Odd\n",
            "12 Even\n",
            "13 Odd\n",
            "14 Even\n"
          ]
        }
      ]
    },
    {
      "cell_type": "code",
      "source": [
        "print(odd_or_even_3)"
      ],
      "metadata": {
        "colab": {
          "base_uri": "https://localhost:8080/"
        },
        "id": "ytOoubkmSS2t",
        "outputId": "44c520e2-78ad-494a-ad4e-094794d57c07"
      },
      "execution_count": null,
      "outputs": [
        {
          "output_type": "stream",
          "name": "stdout",
          "text": [
            "[None, None, None, None, None, None, None, None, None, None, None, None, None, None]\n"
          ]
        }
      ]
    },
    {
      "cell_type": "markdown",
      "source": [
        "### Python Variable Scope"
      ],
      "metadata": {
        "id": "CRShbdojUVRD"
      }
    },
    {
      "cell_type": "code",
      "source": [
        "number = 40\n",
        "for i in range(1,3):\n",
        "  print(number)"
      ],
      "metadata": {
        "colab": {
          "base_uri": "https://localhost:8080/"
        },
        "id": "4Od28jMmTzTr",
        "outputId": "39ca025b-1d4d-46c7-e503-083c58099cfb"
      },
      "execution_count": null,
      "outputs": [
        {
          "output_type": "stream",
          "name": "stdout",
          "text": [
            "40\n",
            "40\n"
          ]
        }
      ]
    },
    {
      "cell_type": "code",
      "source": [
        "number = 40\n",
        "for i in range(1,3):\n",
        "  number2 = 10\n",
        "  print(number)\n",
        "print(number2)"
      ],
      "metadata": {
        "colab": {
          "base_uri": "https://localhost:8080/"
        },
        "id": "7tsd1vZiVKLl",
        "outputId": "a958dc9b-1d83-4ddb-e88e-0e810793dc28"
      },
      "execution_count": null,
      "outputs": [
        {
          "output_type": "stream",
          "name": "stdout",
          "text": [
            "40\n",
            "40\n",
            "10\n"
          ]
        }
      ]
    },
    {
      "cell_type": "code",
      "source": [
        "def add(a,b):\n",
        "  temp = 20\n",
        "  print(number_3)\n",
        "  number = a+b\n",
        "  return number"
      ],
      "metadata": {
        "id": "1U_M7VXxVcN2"
      },
      "execution_count": null,
      "outputs": []
    },
    {
      "cell_type": "code",
      "source": [
        "number_3  = 60\n",
        "add(10,20)"
      ],
      "metadata": {
        "id": "JsW9Zok5VmPi"
      },
      "execution_count": null,
      "outputs": []
    },
    {
      "cell_type": "code",
      "source": [],
      "metadata": {
        "id": "X6rSJ3wlVy6m"
      },
      "execution_count": null,
      "outputs": []
    },
    {
      "cell_type": "markdown",
      "source": [
        "### If you want to access any variable from function"
      ],
      "metadata": {
        "id": "jhE5scu9bkAR"
      }
    },
    {
      "cell_type": "code",
      "source": [
        "def add(a,b):\n",
        "  global temp\n",
        "  temp =20\n",
        "\n",
        "\n",
        "\n",
        "\n",
        "  number = a + b\n",
        "  return number"
      ],
      "metadata": {
        "id": "nkWZU7Ifbplq"
      },
      "execution_count": null,
      "outputs": []
    },
    {
      "cell_type": "code",
      "source": [
        "number3 = 20\n",
        "number_4 = add(10,20)\n",
        "print(number_4)\n",
        "print(temp)"
      ],
      "metadata": {
        "colab": {
          "base_uri": "https://localhost:8080/"
        },
        "id": "RRreAJZYb6Ga",
        "outputId": "e099c4dd-dd84-468e-841e-2cd06732e42f"
      },
      "execution_count": null,
      "outputs": [
        {
          "output_type": "stream",
          "name": "stdout",
          "text": [
            "30\n",
            "20\n"
          ]
        }
      ]
    },
    {
      "cell_type": "markdown",
      "source": [
        "### Python Classes/Objects\n",
        "Classes:\n",
        "Definition: A class in python is a blueprint for creating objects.It defines a datatype by encapsuling the attributes(variable) and behaviours(methods) that the objects created from the class can perform\n",
        "Components:A class typically includes:\\\n",
        "Attributes: Variables that store data specific to the class\n",
        "Methods:Functions that defines behaviour of the class\n",
        "### Objects:\n",
        "Definition:An object is an instance of a class.When a class is defined,no memory is allocated until  an object of that class is created\n",
        "Creation:Objects are created by calling the class itself as if it were a function.This triggers the class's init method,which initializes\n"
      ],
      "metadata": {
        "id": "yVP1Qambck3q"
      }
    },
    {
      "cell_type": "markdown",
      "source": [
        "### init()\n",
        "##Purpose:The init() method is the constructor in Python.It's automatically invoked when a new object of a class is created.\n",
        "## Self Parameter: The first parameter of the init() method is self,which is reference to the current instance of the class.It allows access to the attributes and methods of the class in Python,\n",
        "## Initialization: The init() method is used to initialize the attributes of an object.This method can take additional arguments to set the initial state of a new object"
      ],
      "metadata": {
        "id": "90egIN8Jhpql"
      }
    },
    {
      "cell_type": "code",
      "source": [
        "class animal:\n",
        "  def __init__(self,p_legs,p_mammal,p_bark,p_is_pet,p_fur,p_aggresive):\n",
        "    self.legs = p_legs\n",
        "    self.mammal = p_mammal\n",
        "    self.bark = p_bark\n",
        "    self.is_pet = p_is_pet\n",
        "    self.fur=p_fur\n",
        "    self.i_aggresive=p_aggresive\n",
        "  def aggresive(self):\n",
        "    print(self.i_aggresive)\n",
        "  def barks(self,new_bark):\n",
        "\n",
        "    print(self.bark)\n",
        "    print(new_bark)\n",
        "  def pet(self):\n",
        "    if self.is_pet == True:\n",
        "      print(\"The animal is suitable for petting\")\n",
        "    else:\n",
        "      print(\"The animal is not suitable for petting\")\n"
      ],
      "metadata": {
        "id": "YDPKkq62hpYW"
      },
      "execution_count": null,
      "outputs": []
    },
    {
      "cell_type": "code",
      "source": [
        "cat = animal(4,True,\"Mew Mew\",True,True,False)\n"
      ],
      "metadata": {
        "id": "TJ7gCjp9eCQt"
      },
      "execution_count": null,
      "outputs": []
    },
    {
      "cell_type": "code",
      "source": [
        "cow = animal(4,True,\"Hamba Hamba\",False,True,False)\n",
        "eagle = animal(2,False,\"----\",False,True,True)\n"
      ],
      "metadata": {
        "id": "AEewwyJcmiyp"
      },
      "execution_count": null,
      "outputs": []
    },
    {
      "cell_type": "code",
      "source": [
        "cat.legs"
      ],
      "metadata": {
        "colab": {
          "base_uri": "https://localhost:8080/"
        },
        "id": "wbngKmE8msJ3",
        "outputId": "4a11a648-b20b-46c2-8cd8-6bd409329339"
      },
      "execution_count": null,
      "outputs": [
        {
          "output_type": "execute_result",
          "data": {
            "text/plain": [
              "4"
            ]
          },
          "metadata": {},
          "execution_count": 13
        }
      ]
    },
    {
      "cell_type": "code",
      "source": [
        "cat.aggresive()"
      ],
      "metadata": {
        "id": "0Xg_ysXDcfdb",
        "colab": {
          "base_uri": "https://localhost:8080/"
        },
        "outputId": "da6b4e8c-3a4f-4461-c03b-2077c9f5178e"
      },
      "execution_count": null,
      "outputs": [
        {
          "output_type": "stream",
          "name": "stdout",
          "text": [
            "False\n"
          ]
        }
      ]
    },
    {
      "cell_type": "code",
      "source": [
        "cat.barks(\"Maw Maw\")"
      ],
      "metadata": {
        "colab": {
          "base_uri": "https://localhost:8080/"
        },
        "id": "EHXKlnGnlRrN",
        "outputId": "684f6c69-af4f-4f30-dc8d-0a6a17eecc20"
      },
      "execution_count": null,
      "outputs": [
        {
          "output_type": "stream",
          "name": "stdout",
          "text": [
            "Mew Mew\n",
            "Maw Maw\n"
          ]
        }
      ]
    },
    {
      "cell_type": "code",
      "source": [
        "cat.pet()"
      ],
      "metadata": {
        "colab": {
          "base_uri": "https://localhost:8080/"
        },
        "id": "TehPHTrJmQ3H",
        "outputId": "b7d6e44f-776d-42aa-cc06-94ef2ce44c89"
      },
      "execution_count": null,
      "outputs": [
        {
          "output_type": "stream",
          "name": "stdout",
          "text": [
            "The animal is suitable for petting\n"
          ]
        }
      ]
    },
    {
      "cell_type": "markdown",
      "source": [
        "### Python RegEx"
      ],
      "metadata": {
        "id": "1v26okzBm8es"
      }
    },
    {
      "cell_type": "code",
      "source": [],
      "metadata": {
        "id": "ZzyvdyPZm2Ym"
      },
      "execution_count": null,
      "outputs": []
    },
    {
      "cell_type": "markdown",
      "source": [
        "### Try..Except"
      ],
      "metadata": {
        "id": "Cp_bkXg-nVFu"
      }
    },
    {
      "cell_type": "code",
      "source": [
        "num1 = int(input(\"Enter first number: \"))\n",
        "num2 = int(input(\"Enter second number: \"))\n",
        "try:\n",
        "  add = num1 + num2\n",
        "  division = num1/num2\n",
        "  print(add)\n",
        "  print(division)\n",
        "except:\n",
        "  print(\"Zero Division Error\")\n",
        "print(\"hello World\")"
      ],
      "metadata": {
        "colab": {
          "base_uri": "https://localhost:8080/"
        },
        "id": "jBwJR_3TnXo1",
        "outputId": "416460c2-cca4-4a4d-a968-062d211e2a0f"
      },
      "execution_count": null,
      "outputs": [
        {
          "output_type": "stream",
          "name": "stdout",
          "text": [
            "Enter first number: 2\n",
            "Enter second number: 0\n",
            "Zero Division Error\n",
            "hello World\n"
          ]
        }
      ]
    },
    {
      "cell_type": "code",
      "source": [
        " num1 = int(input(\"Enter first number: \"))\n",
        " num2 = int(input(\"Enter second number: \"))\n",
        " carlist  = [\"BMW\",\"Tata\",\"Tesla\"]\n",
        " add = num1 + num2\n",
        " try:\n",
        "  division_1 = num1/num2\n",
        "  print(division1)\n",
        "  print(carlist[0])\n",
        "except ZeroDivisionError:\n",
        "  print(\"Zero Division Error\")\n",
        "except IndexError:\n",
        "  print(\"Index Error\")\n",
        "print(add)\n",
        "print(\"Hello World\")\n"
      ],
      "metadata": {
        "id": "-HImCgXh217B",
        "colab": {
          "base_uri": "https://localhost:8080/"
        },
        "outputId": "6714ef41-9a96-4ff3-c5c4-b896798ddd47"
      },
      "execution_count": 1,
      "outputs": [
        {
          "output_type": "stream",
          "name": "stdout",
          "text": [
            "Enter first number: 10\n",
            "Enter second number: 0\n",
            "Zero Division Error\n",
            "10\n",
            "Hello World\n"
          ]
        }
      ]
    },
    {
      "cell_type": "code",
      "source": [
        "num1 = int(input(\"enter first number: \"))\n",
        "num2 = int(input(\"enter second number: \"))\n",
        "carlist = [\"BMW\",\"Tata\",\"Tesla\"]\n",
        "add = num1+ num2\n",
        "try:\n",
        "  division_1 = num1/num2\n",
        "  print(division_1)\n",
        "except ZeroDivisionError:\n",
        "  print(\"Zero Division Error\")\n",
        "\n",
        "try:\n",
        "  print(carlist[4])\n",
        "except IndexError:\n",
        "  print(\"Index Error\")\n",
        "\n",
        "print(\"Hello World\")"
      ],
      "metadata": {
        "colab": {
          "base_uri": "https://localhost:8080/"
        },
        "id": "RKBQ_-f8SDsA",
        "outputId": "d4d9eb7b-3b91-498d-94b5-d770bf3e3c94"
      },
      "execution_count": 4,
      "outputs": [
        {
          "output_type": "stream",
          "name": "stdout",
          "text": [
            "enter first number: 1\n",
            "enter second number: 2\n",
            "0.5\n",
            "Index Error\n",
            "3\n",
            "Hello World\n"
          ]
        }
      ]
    },
    {
      "cell_type": "code",
      "source": [
        "num1 = int(input(\"enter first number: \"))\n",
        "num2 = int(input(\"enter second number: \"))\n",
        "carlist = [\"BMW\",\"Tata\",\"Tesla\"]\n",
        "add = num1+ num2\n",
        "try:\n",
        "  division_1 = num1/num2\n",
        "  print(division_1)\n",
        "except ZeroDivisionError:\n",
        "  print(\"Zero Division Error\")\n",
        "\n",
        "try:\n",
        "  print(carlist[4])\n",
        "except IndexError:\n",
        "  print(\"Index Error\")\n",
        "else:\n",
        "  print(\"No Error\")\n",
        "finally:\n",
        "  print(\"End of the Try-except\")\n",
        "\n",
        "print(\"Hello World\")"
      ],
      "metadata": {
        "id": "HL1VYqE5VBHI"
      },
      "execution_count": null,
      "outputs": []
    },
    {
      "cell_type": "code",
      "source": [
        "num1 = int(input(\"Enter first numbner: \"))\n",
        "num2 = int(input(\"Enter second number: \"))\n",
        "add = num1+num2\n",
        "print(add)\n",
        "try:\n",
        "  division_1 = num1/num2\n",
        "  print(division_1)\n",
        "except:\n",
        "  print(\"Zero Division Error\")\n",
        "  print(\"you can't divide a number again\")\n",
        "  num2 = int(input(\"Give me the second number again:  \"))\n",
        "  division_2 = num1/num2\n",
        "  print(division_2)\n",
        "print(\"hello world\")\n"
      ],
      "metadata": {
        "colab": {
          "base_uri": "https://localhost:8080/"
        },
        "id": "ysQuSQG_VxwE",
        "outputId": "68bf9a06-1355-4c97-854e-0b519ea5ea1e"
      },
      "execution_count": 8,
      "outputs": [
        {
          "output_type": "stream",
          "name": "stdout",
          "text": [
            "Enter first numbner: 1\n",
            "Enter second number: 0\n",
            "1\n",
            "Zero Division Error\n",
            "you can't divide a number again\n",
            "Give me the second number again:  2\n",
            "0.5\n",
            "hello world\n"
          ]
        }
      ]
    },
    {
      "cell_type": "code",
      "source": [],
      "metadata": {
        "id": "cd21YGBBV_WA"
      },
      "execution_count": null,
      "outputs": []
    }
  ]
}